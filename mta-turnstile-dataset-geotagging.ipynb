{
  "cells": [
    {
      "cell_type": "markdown",
      "source": [
        "#### A Backstory \n",
        "in early 2019, I conducted research at BMCC on a noise pollution platform detailing the estimated noise pollution of neighborhoods in NYC ([full paper here if you're interested](https://www.microsoft.com/en-us/research/publication/diagnosing-new-york-citys-noises-with-ubiquitous-data/)). Essentially, the platform inferred the level and type of noise in an area from public ubiquitous datasets using machine learning. After familiarizing myself with the paper, I hypothesized a corelation with noise levels and the number of people within an area at any given time. As you would have guessed, it's not easy to know the exact number of people in a neighborhood at a given time, but given that [more than half of NYC uses public transportation](https://nytransit.org/resources/public-transit-facts), rideship data from the MTA would be helpful for testing my hypothesis. Dealing with the MTA dataset was not fun though.\n",
        "\n",
        "#### The Turnstile Dataset\n",
        "The MTA turnstile dataset is a great asset for many analysis projects (see [this](https://medium.com/@junyoung_lee/analysis-of-new-york-mta-turnstile-data-95251e212206) for example), but with a few issues; limited information on column definitions (I googled control area and saw something about airspace??), cumulative data counting backwards unexpectly, weird looking outliers and all sorts of strangeness. Unfortunately, I wasted a lot of time trying to make this dataset somewhat useful (and turns out [I'm not](https://medium.com/qri-io/taming-the-mtas-unruly-turnstile-data-c945f5f96ba0) the [only one](https://piratefsh.github.io/projects/2015/10/03/mta-subway-turnstile-data.html)). Of course I tried googling but, [you know, scarcity and what not]({{< relref \"posts/scarcity-in-an-ocean-of-knowledge\" >}}). Anyways, in an attempt to save the next gal/guy from burning hours away trying to tag the station location onto the MTA turnstile dataset, I'm sharing this NAAS or *notebook-as-a-sitepost*. Haha, okay I promise I'll be less cheeky for the rest of the post.  \n",
        "  \n",
        "I also would like to experiment creating a pipeline API for processing MTA datasets using some sort of app hosting platform with a free, limited option(like Heroku), to kind of test ways of optimizing for limited resources. A bit like what game developers did with 8 and 16 Bit hardware, but that's for another time.\n",
        "\n",
        "\n",
        "#### Introducing the Dataset\n",
        "The turnstile dataset is available for public use at http://web.mta.info/developers/turnstile.html. Each dataset contains a week's worth of aggrigated, 4 hour snapshots of the state of a counter within the station turnstiles. Lets briefly look at it:"
      ],
      "metadata": {
        "nteract": {
          "transient": {
            "deleting": false
          }
        }
      }
    },
    {
      "cell_type": "code",
      "source": [
        "import pandas  # Good ol' pandas\n",
        "import numpy as np\n",
        "import urllib.request\n",
        "from parsel import Selector  # Scrapy's parsel makes it easy to select html elements from a web document (https://github.com/scrapy/parsel)\n",
        "\n",
        "\n",
        "\n",
        "# So, this function maps the date of the dataset to the dataset location. \n",
        "# Its not exactly necessary here, but I'm reusing code I already have so bear with me\n",
        "def get_available_datasets():\n",
        "    \"\"\"\n",
        "    fetches links to available datasets from MTA turnstile website.\n",
        "    returns a dict of  date: url pairs.\n",
        "    date format example: Saturday, April 11, 2020\n",
        "    \"\"\"\n",
        "\n",
        "    MTA_URL = 'http://web.mta.info/developers/turnstile.html'\n",
        "    DATA_URL_IDENTIFIER = 'data/nyct/turnstile/turnstile_'\n",
        "    MTA_DOMAIN = 'http://web.mta.info/developers/'\n",
        "\n",
        "    with urllib.request.urlopen(MTA_URL) as response:\n",
        "      home_page = Selector(response.read().decode(\"utf8\"))\n",
        "\n",
        "    links = home_page.xpath('//a[contains(@href, \"{}\")]'.format(DATA_URL_IDENTIFIER))\n",
        "    return {link.xpath('text()').get(): MTA_DOMAIN + link.xpath('@href').get() for link in links}\n",
        "\n",
        "  \n",
        "# Okay, let's pull a dataset and create a dataframe. We'll use last week's data (Saturday, June 13, 2020)\n",
        "\n",
        "url = get_available_datasets()['Saturday, June 13, 2020']  # Ideally, what's returned from this function should be cached, but it'll run once so ¯\\_(ツ)_/¯\n",
        "\n",
        "with urllib.request.urlopen(url) as response:\n",
        "  df = pandas.read_csv(response)\n",
        "\n",
        "df"
      ],
      "outputs": [
        {
          "output_type": "execute_result",
          "execution_count": 1,
          "data": {
            "text/plain": [
              "          C/A  UNIT       SCP        STATION LINENAME DIVISION        DATE  \\\n",
              "0        A002  R051  02-00-00          59 ST  NQR456W      BMT  06/06/2020   \n",
              "1        A002  R051  02-00-00          59 ST  NQR456W      BMT  06/06/2020   \n",
              "2        A002  R051  02-00-00          59 ST  NQR456W      BMT  06/06/2020   \n",
              "3        A002  R051  02-00-00          59 ST  NQR456W      BMT  06/06/2020   \n",
              "4        A002  R051  02-00-00          59 ST  NQR456W      BMT  06/06/2020   \n",
              "...       ...   ...       ...            ...      ...      ...         ...   \n",
              "206657  TRAM2  R469  00-05-01  RIT-ROOSEVELT        R      RIT  06/12/2020   \n",
              "206658  TRAM2  R469  00-05-01  RIT-ROOSEVELT        R      RIT  06/12/2020   \n",
              "206659  TRAM2  R469  00-05-01  RIT-ROOSEVELT        R      RIT  06/12/2020   \n",
              "206660  TRAM2  R469  00-05-01  RIT-ROOSEVELT        R      RIT  06/12/2020   \n",
              "206661  TRAM2  R469  00-05-01  RIT-ROOSEVELT        R      RIT  06/12/2020   \n",
              "\n",
              "            TIME     DESC  ENTRIES  \\\n",
              "0       00:00:00  REGULAR  7420920   \n",
              "1       04:00:00  REGULAR  7420920   \n",
              "2       08:00:00  REGULAR  7420928   \n",
              "3       12:00:00  REGULAR  7420941   \n",
              "4       16:00:00  REGULAR  7420972   \n",
              "...          ...      ...      ...   \n",
              "206657  05:00:00  REGULAR     5554   \n",
              "206658  09:00:00  REGULAR     5554   \n",
              "206659  13:00:00  REGULAR     5554   \n",
              "206660  17:00:00  REGULAR     5554   \n",
              "206661  21:00:00  REGULAR     5554   \n",
              "\n",
              "        EXITS                                                                 \n",
              "0                                                 2521129                     \n",
              "1                                                 2521130                     \n",
              "2                                                 2521141                     \n",
              "3                                                 2521163                     \n",
              "4                                                 2521174                     \n",
              "...                                                   ...                     \n",
              "206657                                                514                     \n",
              "206658                                                514                     \n",
              "206659                                                514                     \n",
              "206660                                                514                     \n",
              "206661                                                514                     \n",
              "\n",
              "[206662 rows x 11 columns]"
            ],
            "text/html": [
              "<div>\n",
              "<style scoped>\n",
              "    .dataframe tbody tr th:only-of-type {\n",
              "        vertical-align: middle;\n",
              "    }\n",
              "\n",
              "    .dataframe tbody tr th {\n",
              "        vertical-align: top;\n",
              "    }\n",
              "\n",
              "    .dataframe thead th {\n",
              "        text-align: right;\n",
              "    }\n",
              "</style>\n",
              "<table border=\"1\" class=\"dataframe\">\n",
              "  <thead>\n",
              "    <tr style=\"text-align: right;\">\n",
              "      <th></th>\n",
              "      <th>C/A</th>\n",
              "      <th>UNIT</th>\n",
              "      <th>SCP</th>\n",
              "      <th>STATION</th>\n",
              "      <th>LINENAME</th>\n",
              "      <th>DIVISION</th>\n",
              "      <th>DATE</th>\n",
              "      <th>TIME</th>\n",
              "      <th>DESC</th>\n",
              "      <th>ENTRIES</th>\n",
              "      <th>EXITS</th>\n",
              "    </tr>\n",
              "  </thead>\n",
              "  <tbody>\n",
              "    <tr>\n",
              "      <th>0</th>\n",
              "      <td>A002</td>\n",
              "      <td>R051</td>\n",
              "      <td>02-00-00</td>\n",
              "      <td>59 ST</td>\n",
              "      <td>NQR456W</td>\n",
              "      <td>BMT</td>\n",
              "      <td>06/06/2020</td>\n",
              "      <td>00:00:00</td>\n",
              "      <td>REGULAR</td>\n",
              "      <td>7420920</td>\n",
              "      <td>2521129</td>\n",
              "    </tr>\n",
              "    <tr>\n",
              "      <th>1</th>\n",
              "      <td>A002</td>\n",
              "      <td>R051</td>\n",
              "      <td>02-00-00</td>\n",
              "      <td>59 ST</td>\n",
              "      <td>NQR456W</td>\n",
              "      <td>BMT</td>\n",
              "      <td>06/06/2020</td>\n",
              "      <td>04:00:00</td>\n",
              "      <td>REGULAR</td>\n",
              "      <td>7420920</td>\n",
              "      <td>2521130</td>\n",
              "    </tr>\n",
              "    <tr>\n",
              "      <th>2</th>\n",
              "      <td>A002</td>\n",
              "      <td>R051</td>\n",
              "      <td>02-00-00</td>\n",
              "      <td>59 ST</td>\n",
              "      <td>NQR456W</td>\n",
              "      <td>BMT</td>\n",
              "      <td>06/06/2020</td>\n",
              "      <td>08:00:00</td>\n",
              "      <td>REGULAR</td>\n",
              "      <td>7420928</td>\n",
              "      <td>2521141</td>\n",
              "    </tr>\n",
              "    <tr>\n",
              "      <th>3</th>\n",
              "      <td>A002</td>\n",
              "      <td>R051</td>\n",
              "      <td>02-00-00</td>\n",
              "      <td>59 ST</td>\n",
              "      <td>NQR456W</td>\n",
              "      <td>BMT</td>\n",
              "      <td>06/06/2020</td>\n",
              "      <td>12:00:00</td>\n",
              "      <td>REGULAR</td>\n",
              "      <td>7420941</td>\n",
              "      <td>2521163</td>\n",
              "    </tr>\n",
              "    <tr>\n",
              "      <th>4</th>\n",
              "      <td>A002</td>\n",
              "      <td>R051</td>\n",
              "      <td>02-00-00</td>\n",
              "      <td>59 ST</td>\n",
              "      <td>NQR456W</td>\n",
              "      <td>BMT</td>\n",
              "      <td>06/06/2020</td>\n",
              "      <td>16:00:00</td>\n",
              "      <td>REGULAR</td>\n",
              "      <td>7420972</td>\n",
              "      <td>2521174</td>\n",
              "    </tr>\n",
              "    <tr>\n",
              "      <th>...</th>\n",
              "      <td>...</td>\n",
              "      <td>...</td>\n",
              "      <td>...</td>\n",
              "      <td>...</td>\n",
              "      <td>...</td>\n",
              "      <td>...</td>\n",
              "      <td>...</td>\n",
              "      <td>...</td>\n",
              "      <td>...</td>\n",
              "      <td>...</td>\n",
              "      <td>...</td>\n",
              "    </tr>\n",
              "    <tr>\n",
              "      <th>206657</th>\n",
              "      <td>TRAM2</td>\n",
              "      <td>R469</td>\n",
              "      <td>00-05-01</td>\n",
              "      <td>RIT-ROOSEVELT</td>\n",
              "      <td>R</td>\n",
              "      <td>RIT</td>\n",
              "      <td>06/12/2020</td>\n",
              "      <td>05:00:00</td>\n",
              "      <td>REGULAR</td>\n",
              "      <td>5554</td>\n",
              "      <td>514</td>\n",
              "    </tr>\n",
              "    <tr>\n",
              "      <th>206658</th>\n",
              "      <td>TRAM2</td>\n",
              "      <td>R469</td>\n",
              "      <td>00-05-01</td>\n",
              "      <td>RIT-ROOSEVELT</td>\n",
              "      <td>R</td>\n",
              "      <td>RIT</td>\n",
              "      <td>06/12/2020</td>\n",
              "      <td>09:00:00</td>\n",
              "      <td>REGULAR</td>\n",
              "      <td>5554</td>\n",
              "      <td>514</td>\n",
              "    </tr>\n",
              "    <tr>\n",
              "      <th>206659</th>\n",
              "      <td>TRAM2</td>\n",
              "      <td>R469</td>\n",
              "      <td>00-05-01</td>\n",
              "      <td>RIT-ROOSEVELT</td>\n",
              "      <td>R</td>\n",
              "      <td>RIT</td>\n",
              "      <td>06/12/2020</td>\n",
              "      <td>13:00:00</td>\n",
              "      <td>REGULAR</td>\n",
              "      <td>5554</td>\n",
              "      <td>514</td>\n",
              "    </tr>\n",
              "    <tr>\n",
              "      <th>206660</th>\n",
              "      <td>TRAM2</td>\n",
              "      <td>R469</td>\n",
              "      <td>00-05-01</td>\n",
              "      <td>RIT-ROOSEVELT</td>\n",
              "      <td>R</td>\n",
              "      <td>RIT</td>\n",
              "      <td>06/12/2020</td>\n",
              "      <td>17:00:00</td>\n",
              "      <td>REGULAR</td>\n",
              "      <td>5554</td>\n",
              "      <td>514</td>\n",
              "    </tr>\n",
              "    <tr>\n",
              "      <th>206661</th>\n",
              "      <td>TRAM2</td>\n",
              "      <td>R469</td>\n",
              "      <td>00-05-01</td>\n",
              "      <td>RIT-ROOSEVELT</td>\n",
              "      <td>R</td>\n",
              "      <td>RIT</td>\n",
              "      <td>06/12/2020</td>\n",
              "      <td>21:00:00</td>\n",
              "      <td>REGULAR</td>\n",
              "      <td>5554</td>\n",
              "      <td>514</td>\n",
              "    </tr>\n",
              "  </tbody>\n",
              "</table>\n",
              "<p>206662 rows × 11 columns</p>\n",
              "</div>"
            ]
          },
          "metadata": {}
        }
      ],
      "execution_count": 1,
      "metadata": {
        "collapsed": true,
        "jupyter": {
          "source_hidden": false,
          "outputs_hidden": false
        },
        "nteract": {
          "transient": {
            "deleting": false
          }
        },
        "execution": {
          "iopub.status.busy": "2020-06-21T16:59:33.007Z",
          "iopub.execute_input": "2020-06-21T16:59:33.014Z",
          "iopub.status.idle": "2020-06-21T16:59:51.855Z",
          "shell.execute_reply": "2020-06-21T16:59:51.907Z"
        }
      }
    },
    {
      "cell_type": "markdown",
      "source": [
        "Not bad right? Besides the columns that aren't immediately obvious (C/A, SCP, etc) we can see that the first 4 rows are counts from the 59th ST station. Wait, which station? There's multiple stations at 59 ST in Manhattan.  \n",
        "  \n",
        "Well if we look at the stops at that station (represented by the LINENAME column), we can guess that it must be the Lexington Avenue/59th Street station. You can also confirm this by looking for all the stations with 59 ST in the names. You'll see that the one for Columbus Circle says \"Columbus\" in its name:"
      ],
      "metadata": {
        "nteract": {
          "transient": {
            "deleting": false
          }
        }
      }
    },
    {
      "cell_type": "code",
      "source": [
        "# Computer, I command you to give me all the Station names with \"59 ST\" in them\n",
        "df[df[\"STATION\"].str.contains(\"59 ST\")][\"STATION\"].unique()"
      ],
      "outputs": [
        {
          "output_type": "execute_result",
          "execution_count": 2,
          "data": {
            "text/plain": [
              "array(['59 ST', '5 AV/59 ST', '59 ST COLUMBUS'], dtype=object)"
            ]
          },
          "metadata": {}
        }
      ],
      "execution_count": 2,
      "metadata": {
        "collapsed": true,
        "jupyter": {
          "source_hidden": false,
          "outputs_hidden": false
        },
        "nteract": {
          "transient": {
            "deleting": false
          }
        },
        "execution": {
          "iopub.status.busy": "2020-06-21T16:59:51.867Z",
          "iopub.execute_input": "2020-06-21T16:59:51.878Z",
          "iopub.status.idle": "2020-06-21T16:59:51.973Z",
          "shell.execute_reply": "2020-06-21T16:59:52.028Z"
        }
      }
    },
    {
      "cell_type": "markdown",
      "source": [
        "It would've been nice if it was geotagged though, right?  \n",
        "  \n",
        "Yeah?  \n",
        "  \n",
        "We'll, lets tag it then.  \n",
        "  \n",
        "There's a dataset with latitude/longitude pairs for stations from MTA that we can use to geotag our turnstile datasets. The dataset can be downloaded [here](http://web.mta.info/developers/data/nyct/subway/Stations.csv). Unfortunately, the dataset isn't consistent with the turnstile dataset, and we cannot simply join the two datasets on, say, the name of the station. So we need to seek alternative measures.  \n",
        "  \n",
        "The easiest solution I could think of was fuzzy string matching on station names, along with a bit of manual pairing. Using this method, I was able to match most of the stations listed in the turnstile dataset with a corresponding latitude/longitude coordinates. It wasn't easy though and did take a considerable amount of hours.  \n",
        "  \n",
        "For explanation sake, I'll briefly take you through that journey. Don't worry, I'll try to make it bearable.  \n",
        "  \n",
        "First, lets get the station location dataset I mentioned earlier and take a look:"
      ],
      "metadata": {
        "nteract": {
          "transient": {
            "deleting": false
          }
        }
      }
    },
    {
      "cell_type": "code",
      "source": [
        "with urllib.request.urlopen(\"http://web.mta.info/developers/data/nyct/subway/Stations.csv\") as response:\n",
        "  stationsdf = pandas.read_csv(response)\n",
        "\n",
        "stationsdf"
      ],
      "outputs": [
        {
          "output_type": "execute_result",
          "execution_count": 3,
          "data": {
            "text/plain": [
              "     Station ID  Complex ID GTFS Stop ID Division           Line  \\\n",
              "0             1           1          R01      BMT        Astoria   \n",
              "1             2           2          R03      BMT        Astoria   \n",
              "2             3           3          R04      BMT        Astoria   \n",
              "3             4           4          R05      BMT        Astoria   \n",
              "4             5           5          R06      BMT        Astoria   \n",
              "..          ...         ...          ...      ...            ...   \n",
              "491         517         517          S15      SIR  Staten Island   \n",
              "492         518         518          S14      SIR  Staten Island   \n",
              "493         519         519          S13      SIR  Staten Island   \n",
              "494         522         522          S09      SIR  Staten Island   \n",
              "495         523         523          S11      SIR  Staten Island   \n",
              "\n",
              "                  Stop Name Borough Daytime Routes   Structure  GTFS Latitude  \\\n",
              "0    Astoria - Ditmars Blvd       Q            N W    Elevated      40.775036   \n",
              "1              Astoria Blvd       Q            N W    Elevated      40.770258   \n",
              "2                     30 Av       Q            N W    Elevated      40.766779   \n",
              "3                  Broadway       Q            N W    Elevated      40.761820   \n",
              "4                     36 Av       Q            N W    Elevated      40.756804   \n",
              "..                      ...     ...            ...         ...            ...   \n",
              "491            Prince's Bay      SI            SIR    Open Cut      40.525507   \n",
              "492         Pleasant Plains      SI            SIR  Embankment      40.522410   \n",
              "493         Richmond Valley      SI            SIR    Open Cut      40.519631   \n",
              "494             Tottenville      SI            SIR    At Grade      40.512764   \n",
              "495             Arthur Kill      SI            SIR    At Grade      40.516578   \n",
              "\n",
              "     GTFS Longitude   North Direction Label South Direction Label  \n",
              "0        -73.912034                     NaN             Manhattan  \n",
              "1        -73.917843            Ditmars Blvd             Manhattan  \n",
              "2        -73.921479  Astoria - Ditmars Blvd             Manhattan  \n",
              "3        -73.925508  Astoria - Ditmars Blvd             Manhattan  \n",
              "4        -73.929575  Astoria - Ditmars Blvd             Manhattan  \n",
              "..              ...                     ...                   ...  \n",
              "491      -74.200064               St George           Tottenville  \n",
              "492      -74.217847               St George           Tottenville  \n",
              "493      -74.229141               St George           Tottenville  \n",
              "494      -74.251961               St George                   NaN  \n",
              "495      -74.242096               St George           Tottenville  \n",
              "\n",
              "[496 rows x 13 columns]"
            ],
            "text/html": [
              "<div>\n",
              "<style scoped>\n",
              "    .dataframe tbody tr th:only-of-type {\n",
              "        vertical-align: middle;\n",
              "    }\n",
              "\n",
              "    .dataframe tbody tr th {\n",
              "        vertical-align: top;\n",
              "    }\n",
              "\n",
              "    .dataframe thead th {\n",
              "        text-align: right;\n",
              "    }\n",
              "</style>\n",
              "<table border=\"1\" class=\"dataframe\">\n",
              "  <thead>\n",
              "    <tr style=\"text-align: right;\">\n",
              "      <th></th>\n",
              "      <th>Station ID</th>\n",
              "      <th>Complex ID</th>\n",
              "      <th>GTFS Stop ID</th>\n",
              "      <th>Division</th>\n",
              "      <th>Line</th>\n",
              "      <th>Stop Name</th>\n",
              "      <th>Borough</th>\n",
              "      <th>Daytime Routes</th>\n",
              "      <th>Structure</th>\n",
              "      <th>GTFS Latitude</th>\n",
              "      <th>GTFS Longitude</th>\n",
              "      <th>North Direction Label</th>\n",
              "      <th>South Direction Label</th>\n",
              "    </tr>\n",
              "  </thead>\n",
              "  <tbody>\n",
              "    <tr>\n",
              "      <th>0</th>\n",
              "      <td>1</td>\n",
              "      <td>1</td>\n",
              "      <td>R01</td>\n",
              "      <td>BMT</td>\n",
              "      <td>Astoria</td>\n",
              "      <td>Astoria - Ditmars Blvd</td>\n",
              "      <td>Q</td>\n",
              "      <td>N W</td>\n",
              "      <td>Elevated</td>\n",
              "      <td>40.775036</td>\n",
              "      <td>-73.912034</td>\n",
              "      <td>NaN</td>\n",
              "      <td>Manhattan</td>\n",
              "    </tr>\n",
              "    <tr>\n",
              "      <th>1</th>\n",
              "      <td>2</td>\n",
              "      <td>2</td>\n",
              "      <td>R03</td>\n",
              "      <td>BMT</td>\n",
              "      <td>Astoria</td>\n",
              "      <td>Astoria Blvd</td>\n",
              "      <td>Q</td>\n",
              "      <td>N W</td>\n",
              "      <td>Elevated</td>\n",
              "      <td>40.770258</td>\n",
              "      <td>-73.917843</td>\n",
              "      <td>Ditmars Blvd</td>\n",
              "      <td>Manhattan</td>\n",
              "    </tr>\n",
              "    <tr>\n",
              "      <th>2</th>\n",
              "      <td>3</td>\n",
              "      <td>3</td>\n",
              "      <td>R04</td>\n",
              "      <td>BMT</td>\n",
              "      <td>Astoria</td>\n",
              "      <td>30 Av</td>\n",
              "      <td>Q</td>\n",
              "      <td>N W</td>\n",
              "      <td>Elevated</td>\n",
              "      <td>40.766779</td>\n",
              "      <td>-73.921479</td>\n",
              "      <td>Astoria - Ditmars Blvd</td>\n",
              "      <td>Manhattan</td>\n",
              "    </tr>\n",
              "    <tr>\n",
              "      <th>3</th>\n",
              "      <td>4</td>\n",
              "      <td>4</td>\n",
              "      <td>R05</td>\n",
              "      <td>BMT</td>\n",
              "      <td>Astoria</td>\n",
              "      <td>Broadway</td>\n",
              "      <td>Q</td>\n",
              "      <td>N W</td>\n",
              "      <td>Elevated</td>\n",
              "      <td>40.761820</td>\n",
              "      <td>-73.925508</td>\n",
              "      <td>Astoria - Ditmars Blvd</td>\n",
              "      <td>Manhattan</td>\n",
              "    </tr>\n",
              "    <tr>\n",
              "      <th>4</th>\n",
              "      <td>5</td>\n",
              "      <td>5</td>\n",
              "      <td>R06</td>\n",
              "      <td>BMT</td>\n",
              "      <td>Astoria</td>\n",
              "      <td>36 Av</td>\n",
              "      <td>Q</td>\n",
              "      <td>N W</td>\n",
              "      <td>Elevated</td>\n",
              "      <td>40.756804</td>\n",
              "      <td>-73.929575</td>\n",
              "      <td>Astoria - Ditmars Blvd</td>\n",
              "      <td>Manhattan</td>\n",
              "    </tr>\n",
              "    <tr>\n",
              "      <th>...</th>\n",
              "      <td>...</td>\n",
              "      <td>...</td>\n",
              "      <td>...</td>\n",
              "      <td>...</td>\n",
              "      <td>...</td>\n",
              "      <td>...</td>\n",
              "      <td>...</td>\n",
              "      <td>...</td>\n",
              "      <td>...</td>\n",
              "      <td>...</td>\n",
              "      <td>...</td>\n",
              "      <td>...</td>\n",
              "      <td>...</td>\n",
              "    </tr>\n",
              "    <tr>\n",
              "      <th>491</th>\n",
              "      <td>517</td>\n",
              "      <td>517</td>\n",
              "      <td>S15</td>\n",
              "      <td>SIR</td>\n",
              "      <td>Staten Island</td>\n",
              "      <td>Prince's Bay</td>\n",
              "      <td>SI</td>\n",
              "      <td>SIR</td>\n",
              "      <td>Open Cut</td>\n",
              "      <td>40.525507</td>\n",
              "      <td>-74.200064</td>\n",
              "      <td>St George</td>\n",
              "      <td>Tottenville</td>\n",
              "    </tr>\n",
              "    <tr>\n",
              "      <th>492</th>\n",
              "      <td>518</td>\n",
              "      <td>518</td>\n",
              "      <td>S14</td>\n",
              "      <td>SIR</td>\n",
              "      <td>Staten Island</td>\n",
              "      <td>Pleasant Plains</td>\n",
              "      <td>SI</td>\n",
              "      <td>SIR</td>\n",
              "      <td>Embankment</td>\n",
              "      <td>40.522410</td>\n",
              "      <td>-74.217847</td>\n",
              "      <td>St George</td>\n",
              "      <td>Tottenville</td>\n",
              "    </tr>\n",
              "    <tr>\n",
              "      <th>493</th>\n",
              "      <td>519</td>\n",
              "      <td>519</td>\n",
              "      <td>S13</td>\n",
              "      <td>SIR</td>\n",
              "      <td>Staten Island</td>\n",
              "      <td>Richmond Valley</td>\n",
              "      <td>SI</td>\n",
              "      <td>SIR</td>\n",
              "      <td>Open Cut</td>\n",
              "      <td>40.519631</td>\n",
              "      <td>-74.229141</td>\n",
              "      <td>St George</td>\n",
              "      <td>Tottenville</td>\n",
              "    </tr>\n",
              "    <tr>\n",
              "      <th>494</th>\n",
              "      <td>522</td>\n",
              "      <td>522</td>\n",
              "      <td>S09</td>\n",
              "      <td>SIR</td>\n",
              "      <td>Staten Island</td>\n",
              "      <td>Tottenville</td>\n",
              "      <td>SI</td>\n",
              "      <td>SIR</td>\n",
              "      <td>At Grade</td>\n",
              "      <td>40.512764</td>\n",
              "      <td>-74.251961</td>\n",
              "      <td>St George</td>\n",
              "      <td>NaN</td>\n",
              "    </tr>\n",
              "    <tr>\n",
              "      <th>495</th>\n",
              "      <td>523</td>\n",
              "      <td>523</td>\n",
              "      <td>S11</td>\n",
              "      <td>SIR</td>\n",
              "      <td>Staten Island</td>\n",
              "      <td>Arthur Kill</td>\n",
              "      <td>SI</td>\n",
              "      <td>SIR</td>\n",
              "      <td>At Grade</td>\n",
              "      <td>40.516578</td>\n",
              "      <td>-74.242096</td>\n",
              "      <td>St George</td>\n",
              "      <td>Tottenville</td>\n",
              "    </tr>\n",
              "  </tbody>\n",
              "</table>\n",
              "<p>496 rows × 13 columns</p>\n",
              "</div>"
            ]
          },
          "metadata": {}
        }
      ],
      "execution_count": 3,
      "metadata": {
        "collapsed": true,
        "jupyter": {
          "source_hidden": false,
          "outputs_hidden": false
        },
        "nteract": {
          "transient": {
            "deleting": false
          }
        },
        "execution": {
          "iopub.status.busy": "2020-06-21T16:59:51.990Z",
          "iopub.execute_input": "2020-06-21T16:59:52.000Z",
          "iopub.status.idle": "2020-06-21T16:59:52.090Z",
          "shell.execute_reply": "2020-06-21T16:59:52.196Z"
        }
      }
    },
    {
      "cell_type": "markdown",
      "source": [
        "Great, now we have quite a bit of location data for each station. Let's see what shows up when we search for \"59 st\" in the stop name. That'll give us an idea of the possibility of joining on stop name/STATION columns:"
      ],
      "metadata": {
        "nteract": {
          "transient": {
            "deleting": false
          }
        }
      }
    },
    {
      "cell_type": "code",
      "source": [
        "# Computer, I am once again asking you to give me all the Station names with \"59 St\" in them\n",
        "stationsdf[stationsdf[\"Stop Name\"].str.contains(\"59 St\")]"
      ],
      "outputs": [
        {
          "output_type": "execute_result",
          "execution_count": 4,
          "data": {
            "text/plain": [
              "     Station ID  Complex ID GTFS Stop ID Division                Line  \\\n",
              "6             7         613          R11      BMT             Astoria   \n",
              "7             8           8          R13      BMT             Astoria   \n",
              "34           35          35          R41      BMT              4th Av   \n",
              "160         161         614          A24      IND  8th Av - Fulton St   \n",
              "315         315         614          125      IRT      Broadway - 7Av   \n",
              "400         400         613          629      IRT        Lexington Av   \n",
              "\n",
              "                   Stop Name Borough Daytime Routes Structure  GTFS Latitude  \\\n",
              "6         Lexington Av/59 St       M          N W R    Subway      40.762660   \n",
              "7                 5 Av/59 St       M          N W R    Subway      40.764811   \n",
              "34                     59 St      Bk            N R    Subway      40.641362   \n",
              "160  59 St - Columbus Circle       M        A B C D    Subway      40.768296   \n",
              "315  59 St - Columbus Circle       M              1    Subway      40.768247   \n",
              "400                    59 St       M          4 5 6    Subway      40.762526   \n",
              "\n",
              "     GTFS Longitude North Direction Label     South Direction Label  \n",
              "6        -73.967258                Queens       Downtown & Brooklyn  \n",
              "7        -73.973347                Queens       Downtown & Brooklyn  \n",
              "34       -74.017881             Manhattan  Coney Island - Bay Ridge  \n",
              "160      -73.981736    Uptown & The Bronx       Downtown & Brooklyn  \n",
              "315      -73.981929    Uptown & The Bronx                  Downtown  \n",
              "400      -73.967967    Uptown & The Bronx       Downtown & Brooklyn  "
            ],
            "text/html": [
              "<div>\n",
              "<style scoped>\n",
              "    .dataframe tbody tr th:only-of-type {\n",
              "        vertical-align: middle;\n",
              "    }\n",
              "\n",
              "    .dataframe tbody tr th {\n",
              "        vertical-align: top;\n",
              "    }\n",
              "\n",
              "    .dataframe thead th {\n",
              "        text-align: right;\n",
              "    }\n",
              "</style>\n",
              "<table border=\"1\" class=\"dataframe\">\n",
              "  <thead>\n",
              "    <tr style=\"text-align: right;\">\n",
              "      <th></th>\n",
              "      <th>Station ID</th>\n",
              "      <th>Complex ID</th>\n",
              "      <th>GTFS Stop ID</th>\n",
              "      <th>Division</th>\n",
              "      <th>Line</th>\n",
              "      <th>Stop Name</th>\n",
              "      <th>Borough</th>\n",
              "      <th>Daytime Routes</th>\n",
              "      <th>Structure</th>\n",
              "      <th>GTFS Latitude</th>\n",
              "      <th>GTFS Longitude</th>\n",
              "      <th>North Direction Label</th>\n",
              "      <th>South Direction Label</th>\n",
              "    </tr>\n",
              "  </thead>\n",
              "  <tbody>\n",
              "    <tr>\n",
              "      <th>6</th>\n",
              "      <td>7</td>\n",
              "      <td>613</td>\n",
              "      <td>R11</td>\n",
              "      <td>BMT</td>\n",
              "      <td>Astoria</td>\n",
              "      <td>Lexington Av/59 St</td>\n",
              "      <td>M</td>\n",
              "      <td>N W R</td>\n",
              "      <td>Subway</td>\n",
              "      <td>40.762660</td>\n",
              "      <td>-73.967258</td>\n",
              "      <td>Queens</td>\n",
              "      <td>Downtown &amp; Brooklyn</td>\n",
              "    </tr>\n",
              "    <tr>\n",
              "      <th>7</th>\n",
              "      <td>8</td>\n",
              "      <td>8</td>\n",
              "      <td>R13</td>\n",
              "      <td>BMT</td>\n",
              "      <td>Astoria</td>\n",
              "      <td>5 Av/59 St</td>\n",
              "      <td>M</td>\n",
              "      <td>N W R</td>\n",
              "      <td>Subway</td>\n",
              "      <td>40.764811</td>\n",
              "      <td>-73.973347</td>\n",
              "      <td>Queens</td>\n",
              "      <td>Downtown &amp; Brooklyn</td>\n",
              "    </tr>\n",
              "    <tr>\n",
              "      <th>34</th>\n",
              "      <td>35</td>\n",
              "      <td>35</td>\n",
              "      <td>R41</td>\n",
              "      <td>BMT</td>\n",
              "      <td>4th Av</td>\n",
              "      <td>59 St</td>\n",
              "      <td>Bk</td>\n",
              "      <td>N R</td>\n",
              "      <td>Subway</td>\n",
              "      <td>40.641362</td>\n",
              "      <td>-74.017881</td>\n",
              "      <td>Manhattan</td>\n",
              "      <td>Coney Island - Bay Ridge</td>\n",
              "    </tr>\n",
              "    <tr>\n",
              "      <th>160</th>\n",
              "      <td>161</td>\n",
              "      <td>614</td>\n",
              "      <td>A24</td>\n",
              "      <td>IND</td>\n",
              "      <td>8th Av - Fulton St</td>\n",
              "      <td>59 St - Columbus Circle</td>\n",
              "      <td>M</td>\n",
              "      <td>A B C D</td>\n",
              "      <td>Subway</td>\n",
              "      <td>40.768296</td>\n",
              "      <td>-73.981736</td>\n",
              "      <td>Uptown &amp; The Bronx</td>\n",
              "      <td>Downtown &amp; Brooklyn</td>\n",
              "    </tr>\n",
              "    <tr>\n",
              "      <th>315</th>\n",
              "      <td>315</td>\n",
              "      <td>614</td>\n",
              "      <td>125</td>\n",
              "      <td>IRT</td>\n",
              "      <td>Broadway - 7Av</td>\n",
              "      <td>59 St - Columbus Circle</td>\n",
              "      <td>M</td>\n",
              "      <td>1</td>\n",
              "      <td>Subway</td>\n",
              "      <td>40.768247</td>\n",
              "      <td>-73.981929</td>\n",
              "      <td>Uptown &amp; The Bronx</td>\n",
              "      <td>Downtown</td>\n",
              "    </tr>\n",
              "    <tr>\n",
              "      <th>400</th>\n",
              "      <td>400</td>\n",
              "      <td>613</td>\n",
              "      <td>629</td>\n",
              "      <td>IRT</td>\n",
              "      <td>Lexington Av</td>\n",
              "      <td>59 St</td>\n",
              "      <td>M</td>\n",
              "      <td>4 5 6</td>\n",
              "      <td>Subway</td>\n",
              "      <td>40.762526</td>\n",
              "      <td>-73.967967</td>\n",
              "      <td>Uptown &amp; The Bronx</td>\n",
              "      <td>Downtown &amp; Brooklyn</td>\n",
              "    </tr>\n",
              "  </tbody>\n",
              "</table>\n",
              "</div>"
            ]
          },
          "metadata": {}
        }
      ],
      "execution_count": 4,
      "metadata": {
        "collapsed": true,
        "jupyter": {
          "source_hidden": false,
          "outputs_hidden": false
        },
        "nteract": {
          "transient": {
            "deleting": false
          }
        },
        "execution": {
          "iopub.status.busy": "2020-06-21T16:59:52.102Z",
          "iopub.execute_input": "2020-06-21T16:59:52.110Z",
          "iopub.status.idle": "2020-06-21T16:59:52.139Z",
          "shell.execute_reply": "2020-06-21T16:59:52.216Z"
        }
      }
    },
    {
      "cell_type": "markdown",
      "source": [
        "Yikes. Okay. So a couple of issues here (funny thing is, I haven't noticed these issues until I started writing this. Datascience ami right?) The first one is that the names in our location dataset aren't the station names; they're actually the names of the *stops*. I totally missed that earlier, but fortunately, they line up enough for a lot of the names in the \"STATION\" column of our turnstile dataset. We can still use this dataset, but we'll have to do more than just join on \"STATION\" and \"Stop Name\".  \n",
        "  \n",
        "Okay, lets examine our station/stop locations dataset first. From our example above, we can see that some stations are broken down into multiple stops, with differing line and routes (for example, the first and last rows). What you should also notice is that the complex id is the same for both rows. Coincidence? Well, lets find out: (You'd think the station ID would be the same, but nooope. I tried searching for a key for the column names, but found nothing *sigh*.)"
      ],
      "metadata": {
        "nteract": {
          "transient": {
            "deleting": false
          }
        }
      }
    },
    {
      "cell_type": "code",
      "source": [
        "# What this one liner does is group the rows by \"Complex ID\", filter the groups that have more than one row, \n",
        "# and sort them so we can see the groups next to each other. \n",
        "stationsdf.groupby('Complex ID').filter(lambda g: len(g) > 1).sort_values(\"Complex ID\", ascending=False)"
      ],
      "outputs": [
        {
          "output_type": "execute_result",
          "execution_count": 5,
          "data": {
            "text/plain": [
              "     Station ID  Complex ID GTFS Stop ID Division                Line  \\\n",
              "174         174         636          A41      IND  8th Av - Fulton St   \n",
              "24           25         636          R29      BMT            Broadway   \n",
              "330         330         635          142      IRT      Broadway - 7Av   \n",
              "22           23         635          R27      BMT            Broadway   \n",
              "127         128         630          L17      BMT            Canarsie   \n",
              "..          ...         ...          ...      ...                 ...   \n",
              "462         461         461          R09      BMT             Astoria   \n",
              "166         167         167          A32      IND  8th Av - Fulton St   \n",
              "167         167         167          D20      IND     6th Av - Culver   \n",
              "149         151         151          A12      IND  8th Av - Fulton St   \n",
              "150         151         151          D13      IND           Concourse   \n",
              "\n",
              "                Stop Name Borough Daytime Routes Structure  GTFS Latitude  \\\n",
              "174    Jay St - MetroTech      Bk          A C F    Subway      40.692338   \n",
              "24     Jay St - MetroTech      Bk              R    Subway      40.692180   \n",
              "330           South Ferry       M              1    Subway      40.702068   \n",
              "22           Whitehall St       M            R W    Subway      40.703087   \n",
              "127  Myrtle - Wyckoff Avs      Bk              L    Subway      40.699814   \n",
              "..                    ...     ...            ...       ...            ...   \n",
              "462      Queensboro Plaza       Q            N W  Elevated      40.750582   \n",
              "166                W 4 St       M          A C E    Subway      40.732338   \n",
              "167                W 4 St       M        B D F M    Subway      40.732338   \n",
              "149                145 St       M            A C    Subway      40.824783   \n",
              "150                145 St       M            B D    Subway      40.824783   \n",
              "\n",
              "     GTFS Longitude North Direction Label  \\\n",
              "174      -73.987342             Manhattan   \n",
              "24       -73.985942             Manhattan   \n",
              "330      -74.013664    Uptown & The Bronx   \n",
              "22       -74.012994       Uptown & Queens   \n",
              "127      -73.911586             Manhattan   \n",
              "..              ...                   ...   \n",
              "462      -73.940202    Astoria - Flushing   \n",
              "166      -74.000495       Uptown - Queens   \n",
              "167      -74.000495       Uptown - Queens   \n",
              "149      -73.944216    Uptown & The Bronx   \n",
              "150      -73.944216    Uptown & The Bronx   \n",
              "\n",
              "                            South Direction Label  \n",
              "174  Euclid - Lefferts - Rockaways - Coney Island  \n",
              "24                              Bay Ridge - 95 St  \n",
              "330                                           NaN  \n",
              "22                                       Brooklyn  \n",
              "127                   Canarsie - Rockaway Parkway  \n",
              "..                                            ...  \n",
              "462                                     Manhattan  \n",
              "166                           Downtown & Brooklyn  \n",
              "167                           Downtown & Brooklyn  \n",
              "149                           Downtown & Brooklyn  \n",
              "150                           Downtown & Brooklyn  \n",
              "\n",
              "[86 rows x 13 columns]"
            ],
            "text/html": [
              "<div>\n",
              "<style scoped>\n",
              "    .dataframe tbody tr th:only-of-type {\n",
              "        vertical-align: middle;\n",
              "    }\n",
              "\n",
              "    .dataframe tbody tr th {\n",
              "        vertical-align: top;\n",
              "    }\n",
              "\n",
              "    .dataframe thead th {\n",
              "        text-align: right;\n",
              "    }\n",
              "</style>\n",
              "<table border=\"1\" class=\"dataframe\">\n",
              "  <thead>\n",
              "    <tr style=\"text-align: right;\">\n",
              "      <th></th>\n",
              "      <th>Station ID</th>\n",
              "      <th>Complex ID</th>\n",
              "      <th>GTFS Stop ID</th>\n",
              "      <th>Division</th>\n",
              "      <th>Line</th>\n",
              "      <th>Stop Name</th>\n",
              "      <th>Borough</th>\n",
              "      <th>Daytime Routes</th>\n",
              "      <th>Structure</th>\n",
              "      <th>GTFS Latitude</th>\n",
              "      <th>GTFS Longitude</th>\n",
              "      <th>North Direction Label</th>\n",
              "      <th>South Direction Label</th>\n",
              "    </tr>\n",
              "  </thead>\n",
              "  <tbody>\n",
              "    <tr>\n",
              "      <th>174</th>\n",
              "      <td>174</td>\n",
              "      <td>636</td>\n",
              "      <td>A41</td>\n",
              "      <td>IND</td>\n",
              "      <td>8th Av - Fulton St</td>\n",
              "      <td>Jay St - MetroTech</td>\n",
              "      <td>Bk</td>\n",
              "      <td>A C F</td>\n",
              "      <td>Subway</td>\n",
              "      <td>40.692338</td>\n",
              "      <td>-73.987342</td>\n",
              "      <td>Manhattan</td>\n",
              "      <td>Euclid - Lefferts - Rockaways - Coney Island</td>\n",
              "    </tr>\n",
              "    <tr>\n",
              "      <th>24</th>\n",
              "      <td>25</td>\n",
              "      <td>636</td>\n",
              "      <td>R29</td>\n",
              "      <td>BMT</td>\n",
              "      <td>Broadway</td>\n",
              "      <td>Jay St - MetroTech</td>\n",
              "      <td>Bk</td>\n",
              "      <td>R</td>\n",
              "      <td>Subway</td>\n",
              "      <td>40.692180</td>\n",
              "      <td>-73.985942</td>\n",
              "      <td>Manhattan</td>\n",
              "      <td>Bay Ridge - 95 St</td>\n",
              "    </tr>\n",
              "    <tr>\n",
              "      <th>330</th>\n",
              "      <td>330</td>\n",
              "      <td>635</td>\n",
              "      <td>142</td>\n",
              "      <td>IRT</td>\n",
              "      <td>Broadway - 7Av</td>\n",
              "      <td>South Ferry</td>\n",
              "      <td>M</td>\n",
              "      <td>1</td>\n",
              "      <td>Subway</td>\n",
              "      <td>40.702068</td>\n",
              "      <td>-74.013664</td>\n",
              "      <td>Uptown &amp; The Bronx</td>\n",
              "      <td>NaN</td>\n",
              "    </tr>\n",
              "    <tr>\n",
              "      <th>22</th>\n",
              "      <td>23</td>\n",
              "      <td>635</td>\n",
              "      <td>R27</td>\n",
              "      <td>BMT</td>\n",
              "      <td>Broadway</td>\n",
              "      <td>Whitehall St</td>\n",
              "      <td>M</td>\n",
              "      <td>R W</td>\n",
              "      <td>Subway</td>\n",
              "      <td>40.703087</td>\n",
              "      <td>-74.012994</td>\n",
              "      <td>Uptown &amp; Queens</td>\n",
              "      <td>Brooklyn</td>\n",
              "    </tr>\n",
              "    <tr>\n",
              "      <th>127</th>\n",
              "      <td>128</td>\n",
              "      <td>630</td>\n",
              "      <td>L17</td>\n",
              "      <td>BMT</td>\n",
              "      <td>Canarsie</td>\n",
              "      <td>Myrtle - Wyckoff Avs</td>\n",
              "      <td>Bk</td>\n",
              "      <td>L</td>\n",
              "      <td>Subway</td>\n",
              "      <td>40.699814</td>\n",
              "      <td>-73.911586</td>\n",
              "      <td>Manhattan</td>\n",
              "      <td>Canarsie - Rockaway Parkway</td>\n",
              "    </tr>\n",
              "    <tr>\n",
              "      <th>...</th>\n",
              "      <td>...</td>\n",
              "      <td>...</td>\n",
              "      <td>...</td>\n",
              "      <td>...</td>\n",
              "      <td>...</td>\n",
              "      <td>...</td>\n",
              "      <td>...</td>\n",
              "      <td>...</td>\n",
              "      <td>...</td>\n",
              "      <td>...</td>\n",
              "      <td>...</td>\n",
              "      <td>...</td>\n",
              "      <td>...</td>\n",
              "    </tr>\n",
              "    <tr>\n",
              "      <th>462</th>\n",
              "      <td>461</td>\n",
              "      <td>461</td>\n",
              "      <td>R09</td>\n",
              "      <td>BMT</td>\n",
              "      <td>Astoria</td>\n",
              "      <td>Queensboro Plaza</td>\n",
              "      <td>Q</td>\n",
              "      <td>N W</td>\n",
              "      <td>Elevated</td>\n",
              "      <td>40.750582</td>\n",
              "      <td>-73.940202</td>\n",
              "      <td>Astoria - Flushing</td>\n",
              "      <td>Manhattan</td>\n",
              "    </tr>\n",
              "    <tr>\n",
              "      <th>166</th>\n",
              "      <td>167</td>\n",
              "      <td>167</td>\n",
              "      <td>A32</td>\n",
              "      <td>IND</td>\n",
              "      <td>8th Av - Fulton St</td>\n",
              "      <td>W 4 St</td>\n",
              "      <td>M</td>\n",
              "      <td>A C E</td>\n",
              "      <td>Subway</td>\n",
              "      <td>40.732338</td>\n",
              "      <td>-74.000495</td>\n",
              "      <td>Uptown - Queens</td>\n",
              "      <td>Downtown &amp; Brooklyn</td>\n",
              "    </tr>\n",
              "    <tr>\n",
              "      <th>167</th>\n",
              "      <td>167</td>\n",
              "      <td>167</td>\n",
              "      <td>D20</td>\n",
              "      <td>IND</td>\n",
              "      <td>6th Av - Culver</td>\n",
              "      <td>W 4 St</td>\n",
              "      <td>M</td>\n",
              "      <td>B D F M</td>\n",
              "      <td>Subway</td>\n",
              "      <td>40.732338</td>\n",
              "      <td>-74.000495</td>\n",
              "      <td>Uptown - Queens</td>\n",
              "      <td>Downtown &amp; Brooklyn</td>\n",
              "    </tr>\n",
              "    <tr>\n",
              "      <th>149</th>\n",
              "      <td>151</td>\n",
              "      <td>151</td>\n",
              "      <td>A12</td>\n",
              "      <td>IND</td>\n",
              "      <td>8th Av - Fulton St</td>\n",
              "      <td>145 St</td>\n",
              "      <td>M</td>\n",
              "      <td>A C</td>\n",
              "      <td>Subway</td>\n",
              "      <td>40.824783</td>\n",
              "      <td>-73.944216</td>\n",
              "      <td>Uptown &amp; The Bronx</td>\n",
              "      <td>Downtown &amp; Brooklyn</td>\n",
              "    </tr>\n",
              "    <tr>\n",
              "      <th>150</th>\n",
              "      <td>151</td>\n",
              "      <td>151</td>\n",
              "      <td>D13</td>\n",
              "      <td>IND</td>\n",
              "      <td>Concourse</td>\n",
              "      <td>145 St</td>\n",
              "      <td>M</td>\n",
              "      <td>B D</td>\n",
              "      <td>Subway</td>\n",
              "      <td>40.824783</td>\n",
              "      <td>-73.944216</td>\n",
              "      <td>Uptown &amp; The Bronx</td>\n",
              "      <td>Downtown &amp; Brooklyn</td>\n",
              "    </tr>\n",
              "  </tbody>\n",
              "</table>\n",
              "<p>86 rows × 13 columns</p>\n",
              "</div>"
            ]
          },
          "metadata": {}
        }
      ],
      "execution_count": 5,
      "metadata": {
        "collapsed": true,
        "jupyter": {
          "source_hidden": false,
          "outputs_hidden": false
        },
        "nteract": {
          "transient": {
            "deleting": false
          }
        },
        "execution": {
          "iopub.status.busy": "2020-06-21T16:59:52.154Z",
          "iopub.execute_input": "2020-06-21T16:59:52.163Z",
          "iopub.status.idle": "2020-06-21T16:59:52.258Z",
          "shell.execute_reply": "2020-06-21T16:59:52.292Z"
        }
      }
    },
    {
      "cell_type": "markdown",
      "source": [
        "Okay. Lets take some samples and test. We've already seen for Lexington Av/59th St that the \"Daytime Routes\" (AKA trains that run there) mostly add up to the \"LINENAME\" in our turnstile dataset (except for the Q train, which I assume is there because of the access to the Lexington Av/63rd St Station, which runs the Q train. There also was a substitution of the Q for the W from 2010-2016. [details here if you're interested](https://en.wikipedia.org/wiki/Lexington_Avenue/59th_Street_station)). Let's try rows 3 & 4; Whitehall St and South Ferry. If you add the \"Daytime Routes\", you'll see it corresponds with the \"LINENAME\" values for \"SOUTH FERRY\" in the turnstile dataset: \n"
      ],
      "metadata": {
        "nteract": {
          "transient": {
            "deleting": false
          }
        }
      }
    },
    {
      "cell_type": "code",
      "source": [
        "df[df[\"STATION\"] == \"SOUTH FERRY\"].head(1) "
      ],
      "outputs": [
        {
          "output_type": "execute_result",
          "execution_count": 6,
          "data": {
            "text/plain": [
              "         C/A  UNIT       SCP      STATION LINENAME DIVISION        DATE  \\\n",
              "128358  R101  R001  02-00-00  SOUTH FERRY      1RW      IRT  06/06/2020   \n",
              "\n",
              "            TIME     DESC  ENTRIES  \\\n",
              "128358  01:00:00  REGULAR  7025506   \n",
              "\n",
              "        EXITS                                                                 \n",
              "128358                                             283662                     "
            ],
            "text/html": [
              "<div>\n",
              "<style scoped>\n",
              "    .dataframe tbody tr th:only-of-type {\n",
              "        vertical-align: middle;\n",
              "    }\n",
              "\n",
              "    .dataframe tbody tr th {\n",
              "        vertical-align: top;\n",
              "    }\n",
              "\n",
              "    .dataframe thead th {\n",
              "        text-align: right;\n",
              "    }\n",
              "</style>\n",
              "<table border=\"1\" class=\"dataframe\">\n",
              "  <thead>\n",
              "    <tr style=\"text-align: right;\">\n",
              "      <th></th>\n",
              "      <th>C/A</th>\n",
              "      <th>UNIT</th>\n",
              "      <th>SCP</th>\n",
              "      <th>STATION</th>\n",
              "      <th>LINENAME</th>\n",
              "      <th>DIVISION</th>\n",
              "      <th>DATE</th>\n",
              "      <th>TIME</th>\n",
              "      <th>DESC</th>\n",
              "      <th>ENTRIES</th>\n",
              "      <th>EXITS</th>\n",
              "    </tr>\n",
              "  </thead>\n",
              "  <tbody>\n",
              "    <tr>\n",
              "      <th>128358</th>\n",
              "      <td>R101</td>\n",
              "      <td>R001</td>\n",
              "      <td>02-00-00</td>\n",
              "      <td>SOUTH FERRY</td>\n",
              "      <td>1RW</td>\n",
              "      <td>IRT</td>\n",
              "      <td>06/06/2020</td>\n",
              "      <td>01:00:00</td>\n",
              "      <td>REGULAR</td>\n",
              "      <td>7025506</td>\n",
              "      <td>283662</td>\n",
              "    </tr>\n",
              "  </tbody>\n",
              "</table>\n",
              "</div>"
            ]
          },
          "metadata": {}
        }
      ],
      "execution_count": 6,
      "metadata": {
        "collapsed": true,
        "jupyter": {
          "source_hidden": false,
          "outputs_hidden": false
        },
        "nteract": {
          "transient": {
            "deleting": false
          }
        },
        "execution": {
          "iopub.status.busy": "2020-06-21T16:59:52.329Z",
          "iopub.execute_input": "2020-06-21T16:59:52.336Z",
          "iopub.status.idle": "2020-06-21T16:59:52.352Z",
          "shell.execute_reply": "2020-06-21T16:59:52.301Z"
        }
      }
    },
    {
      "cell_type": "markdown",
      "source": [
        "Great. So maybe we can use the LINENAME/Daytime Routes to geotag the turnstile dataset.  \n",
        "  \n",
        "Lets try it."
      ],
      "metadata": {
        "nteract": {
          "transient": {
            "deleting": false
          }
        }
      }
    },
    {
      "cell_type": "markdown",
      "source": [
        "First, I'll try to consolidate the \"Daytime Routes\" for the stops stops that are in the same station, and replace the \"Daytime Routes\" for each with the consolidated value. Afterward, we'll check Lex av/59th and South Ferry/Whitehall:"
      ],
      "metadata": {
        "nteract": {
          "transient": {
            "deleting": false
          }
        }
      }
    },
    {
      "cell_type": "code",
      "source": [
        "# this needs to run ONLY ONCE or you'll get the world of duplicates\n",
        "stationsdf[\"Daytime Routes\"] = stationsdf[[\"Complex ID\",\"Daytime Routes\"]].groupby(\"Complex ID\")[\"Daytime Routes\"].transform(lambda x: ''.join([y.replace(' ', '') for y in x]))"
      ],
      "outputs": [],
      "execution_count": 7,
      "metadata": {
        "collapsed": true,
        "jupyter": {
          "source_hidden": false,
          "outputs_hidden": false
        },
        "nteract": {
          "transient": {
            "deleting": false
          }
        },
        "execution": {
          "iopub.status.busy": "2020-06-21T16:59:52.363Z",
          "iopub.execute_input": "2020-06-21T16:59:52.370Z",
          "iopub.status.idle": "2020-06-21T16:59:52.514Z",
          "shell.execute_reply": "2020-06-21T16:59:52.624Z"
        }
      }
    },
    {
      "cell_type": "code",
      "source": [
        "# Check Lex av/59th\n",
        "stationsdf[stationsdf[\"Stop Name\"].str.contains(\"59 St\")]"
      ],
      "outputs": [
        {
          "output_type": "execute_result",
          "execution_count": 8,
          "data": {
            "text/plain": [
              "     Station ID  Complex ID GTFS Stop ID Division                Line  \\\n",
              "6             7         613          R11      BMT             Astoria   \n",
              "7             8           8          R13      BMT             Astoria   \n",
              "34           35          35          R41      BMT              4th Av   \n",
              "160         161         614          A24      IND  8th Av - Fulton St   \n",
              "315         315         614          125      IRT      Broadway - 7Av   \n",
              "400         400         613          629      IRT        Lexington Av   \n",
              "\n",
              "                   Stop Name Borough Daytime Routes Structure  GTFS Latitude  \\\n",
              "6         Lexington Av/59 St       M         NWR456    Subway      40.762660   \n",
              "7                 5 Av/59 St       M            NWR    Subway      40.764811   \n",
              "34                     59 St      Bk             NR    Subway      40.641362   \n",
              "160  59 St - Columbus Circle       M          ABCD1    Subway      40.768296   \n",
              "315  59 St - Columbus Circle       M          ABCD1    Subway      40.768247   \n",
              "400                    59 St       M         NWR456    Subway      40.762526   \n",
              "\n",
              "     GTFS Longitude North Direction Label     South Direction Label  \n",
              "6        -73.967258                Queens       Downtown & Brooklyn  \n",
              "7        -73.973347                Queens       Downtown & Brooklyn  \n",
              "34       -74.017881             Manhattan  Coney Island - Bay Ridge  \n",
              "160      -73.981736    Uptown & The Bronx       Downtown & Brooklyn  \n",
              "315      -73.981929    Uptown & The Bronx                  Downtown  \n",
              "400      -73.967967    Uptown & The Bronx       Downtown & Brooklyn  "
            ],
            "text/html": [
              "<div>\n",
              "<style scoped>\n",
              "    .dataframe tbody tr th:only-of-type {\n",
              "        vertical-align: middle;\n",
              "    }\n",
              "\n",
              "    .dataframe tbody tr th {\n",
              "        vertical-align: top;\n",
              "    }\n",
              "\n",
              "    .dataframe thead th {\n",
              "        text-align: right;\n",
              "    }\n",
              "</style>\n",
              "<table border=\"1\" class=\"dataframe\">\n",
              "  <thead>\n",
              "    <tr style=\"text-align: right;\">\n",
              "      <th></th>\n",
              "      <th>Station ID</th>\n",
              "      <th>Complex ID</th>\n",
              "      <th>GTFS Stop ID</th>\n",
              "      <th>Division</th>\n",
              "      <th>Line</th>\n",
              "      <th>Stop Name</th>\n",
              "      <th>Borough</th>\n",
              "      <th>Daytime Routes</th>\n",
              "      <th>Structure</th>\n",
              "      <th>GTFS Latitude</th>\n",
              "      <th>GTFS Longitude</th>\n",
              "      <th>North Direction Label</th>\n",
              "      <th>South Direction Label</th>\n",
              "    </tr>\n",
              "  </thead>\n",
              "  <tbody>\n",
              "    <tr>\n",
              "      <th>6</th>\n",
              "      <td>7</td>\n",
              "      <td>613</td>\n",
              "      <td>R11</td>\n",
              "      <td>BMT</td>\n",
              "      <td>Astoria</td>\n",
              "      <td>Lexington Av/59 St</td>\n",
              "      <td>M</td>\n",
              "      <td>NWR456</td>\n",
              "      <td>Subway</td>\n",
              "      <td>40.762660</td>\n",
              "      <td>-73.967258</td>\n",
              "      <td>Queens</td>\n",
              "      <td>Downtown &amp; Brooklyn</td>\n",
              "    </tr>\n",
              "    <tr>\n",
              "      <th>7</th>\n",
              "      <td>8</td>\n",
              "      <td>8</td>\n",
              "      <td>R13</td>\n",
              "      <td>BMT</td>\n",
              "      <td>Astoria</td>\n",
              "      <td>5 Av/59 St</td>\n",
              "      <td>M</td>\n",
              "      <td>NWR</td>\n",
              "      <td>Subway</td>\n",
              "      <td>40.764811</td>\n",
              "      <td>-73.973347</td>\n",
              "      <td>Queens</td>\n",
              "      <td>Downtown &amp; Brooklyn</td>\n",
              "    </tr>\n",
              "    <tr>\n",
              "      <th>34</th>\n",
              "      <td>35</td>\n",
              "      <td>35</td>\n",
              "      <td>R41</td>\n",
              "      <td>BMT</td>\n",
              "      <td>4th Av</td>\n",
              "      <td>59 St</td>\n",
              "      <td>Bk</td>\n",
              "      <td>NR</td>\n",
              "      <td>Subway</td>\n",
              "      <td>40.641362</td>\n",
              "      <td>-74.017881</td>\n",
              "      <td>Manhattan</td>\n",
              "      <td>Coney Island - Bay Ridge</td>\n",
              "    </tr>\n",
              "    <tr>\n",
              "      <th>160</th>\n",
              "      <td>161</td>\n",
              "      <td>614</td>\n",
              "      <td>A24</td>\n",
              "      <td>IND</td>\n",
              "      <td>8th Av - Fulton St</td>\n",
              "      <td>59 St - Columbus Circle</td>\n",
              "      <td>M</td>\n",
              "      <td>ABCD1</td>\n",
              "      <td>Subway</td>\n",
              "      <td>40.768296</td>\n",
              "      <td>-73.981736</td>\n",
              "      <td>Uptown &amp; The Bronx</td>\n",
              "      <td>Downtown &amp; Brooklyn</td>\n",
              "    </tr>\n",
              "    <tr>\n",
              "      <th>315</th>\n",
              "      <td>315</td>\n",
              "      <td>614</td>\n",
              "      <td>125</td>\n",
              "      <td>IRT</td>\n",
              "      <td>Broadway - 7Av</td>\n",
              "      <td>59 St - Columbus Circle</td>\n",
              "      <td>M</td>\n",
              "      <td>ABCD1</td>\n",
              "      <td>Subway</td>\n",
              "      <td>40.768247</td>\n",
              "      <td>-73.981929</td>\n",
              "      <td>Uptown &amp; The Bronx</td>\n",
              "      <td>Downtown</td>\n",
              "    </tr>\n",
              "    <tr>\n",
              "      <th>400</th>\n",
              "      <td>400</td>\n",
              "      <td>613</td>\n",
              "      <td>629</td>\n",
              "      <td>IRT</td>\n",
              "      <td>Lexington Av</td>\n",
              "      <td>59 St</td>\n",
              "      <td>M</td>\n",
              "      <td>NWR456</td>\n",
              "      <td>Subway</td>\n",
              "      <td>40.762526</td>\n",
              "      <td>-73.967967</td>\n",
              "      <td>Uptown &amp; The Bronx</td>\n",
              "      <td>Downtown &amp; Brooklyn</td>\n",
              "    </tr>\n",
              "  </tbody>\n",
              "</table>\n",
              "</div>"
            ]
          },
          "metadata": {}
        }
      ],
      "execution_count": 8,
      "metadata": {
        "collapsed": true,
        "jupyter": {
          "source_hidden": false,
          "outputs_hidden": false
        },
        "nteract": {
          "transient": {
            "deleting": false
          }
        },
        "execution": {
          "iopub.status.busy": "2020-06-21T16:59:52.528Z",
          "iopub.execute_input": "2020-06-21T16:59:52.536Z",
          "iopub.status.idle": "2020-06-21T16:59:52.557Z",
          "shell.execute_reply": "2020-06-21T16:59:52.629Z"
        }
      }
    },
    {
      "cell_type": "markdown",
      "source": [
        "Great. Now let's see if we can get somewhere with this. We know we can't directly join because the stations don't have the exact names. The next best thing is to fuzzy search. We'll use fuzzywuzzy to do the fuzzy matching, so now we need a strategy to ensure our dataset is as accurate as possible.\n",
        "   \n",
        "The easiest strategy I can think of is to match the names first then match the Routes and assume the highest pair is correct (we'll test of course). With this in mind, I can match the closest name with routes that are essentially the same thing.  \n",
        "  \n",
        "Lets see how that plays out:"
      ],
      "metadata": {
        "nteract": {
          "transient": {
            "deleting": false
          }
        }
      }
    },
    {
      "cell_type": "code",
      "source": [
        "from fuzzywuzzy import process, fuzz\n",
        "from operator import itemgetter\n",
        "\n",
        "\n",
        "station_stops = {x[0].replace(' ', '').replace('-', ''): x[0] for x in zip(stationsdf[\"Stop Name\"])}\n",
        "\n",
        "station_stop_names = station_stops.keys()\n",
        "\n",
        "def match_records(row):\n",
        "  \"\"\"\n",
        "  Receives a unique (STATION, LINENAME) row from the turnstile dataset and attempts to match it with a record\n",
        "  from the stop/station location dataset using the names and Routes.\n",
        "  \n",
        "  The function runs fuzzy search on the station name and the linename/routes and aggregates the results.\n",
        "  Then it sorts the results in descending order by the match ratio of the name first, then the linename/route.\n",
        "  Finally, it returns the result with the highest name and line/route match ratio\n",
        "  \n",
        "  Returns a dictionary in the format \n",
        "    {'station': '59 ST',        == Corresponds to the STATION column in the turnstile dataset\n",
        "   'name_match': ('59St', 100), == Corresponds to the matched stop name keys & the match ratio\n",
        "   'line_match': 'NWR456',      == Corresponds to the lines/Routes \n",
        "   'stop_name_match': '59 St',  == Corresponds to the actual, unmodified stop name\n",
        "   'line_fuzz_ratio': 77}       == Corresponds to the match ratio of the Routes with that of the LINENAME From the\n",
        "                                   turnstile dataset \n",
        "  \"\"\"\n",
        "  \n",
        "  # preprocess the station name to increase the accuracy of fuzzy matching\n",
        "  station_name = row[\"STATION\"].replace(' ', '').replace('-', '')\n",
        "  \n",
        "  station_routes = row[\"LINENAME\"]\n",
        "  \n",
        "  # first, get the potential matches. \n",
        "  candidates = process.extract(station_name, \n",
        "                               station_stop_names, scorer=fuzz.token_sort_ratio, limit=10)\n",
        "  \n",
        "  \n",
        "  # stores the results of all the line matches for each name match \n",
        "  records = []\n",
        " \n",
        "  for x in candidates:\n",
        "    \n",
        "    # Find corresponding record(s) from the station locations dataframe \n",
        "    candidate_match = stationsdf[stationsdf[\"Stop Name\"] == station_stops[x[0]]][\"Daytime Routes\"].unique()\n",
        "    \n",
        "    for y in candidate_match:\n",
        "      records.append({\n",
        "        \"station\": row[\"STATION\"],\n",
        "        \"name_match\": x,\n",
        "        \"line_match\": y,\n",
        "        \"station_line\": station_routes,\n",
        "        \"stop_name_match\": station_stops[x[0]],\n",
        "        \"line_fuzz_ratio\": fuzz.token_sort_ratio(station_routes, y)\n",
        "      })\n",
        "  \n",
        "  # sorts the results by name first, line/route second, in descending order, and returns the first result\n",
        "  return sorted(records, key=lambda x: (x[\"name_match\"][1], x[\"line_fuzz_ratio\"]), reverse=True)[0]\n"
      ],
      "outputs": [],
      "execution_count": 9,
      "metadata": {
        "collapsed": true,
        "jupyter": {
          "source_hidden": false,
          "outputs_hidden": false
        },
        "nteract": {
          "transient": {
            "deleting": false
          }
        },
        "execution": {
          "iopub.status.busy": "2020-06-21T16:59:52.569Z",
          "iopub.execute_input": "2020-06-21T16:59:52.577Z",
          "iopub.status.idle": "2020-06-21T16:59:52.589Z",
          "shell.execute_reply": "2020-06-21T16:59:52.634Z"
        }
      }
    },
    {
      "cell_type": "code",
      "source": [
        "# Now we apply the function to our dataframes\n",
        "results = df[['STATION','LINENAME']].drop_duplicates().reset_index().apply(match_records, axis=1)"
      ],
      "outputs": [],
      "execution_count": 10,
      "metadata": {
        "collapsed": true,
        "jupyter": {
          "source_hidden": false,
          "outputs_hidden": false
        },
        "nteract": {
          "transient": {
            "deleting": false
          }
        },
        "execution": {
          "iopub.status.busy": "2020-06-21T16:59:52.604Z",
          "iopub.execute_input": "2020-06-21T16:59:52.615Z",
          "iopub.status.idle": "2020-06-21T16:59:57.730Z",
          "shell.execute_reply": "2020-06-21T16:59:57.710Z"
        }
      }
    },
    {
      "cell_type": "markdown",
      "source": [
        "Okay we're close! There are a couple of stations that aren't matching correctly, or don't exist in your locations dataset. We'll have to do some manual vetting to take care of those (don't worry, I did it myself.)  \n",
        "  \n",
        "Now, lets clean our data, fix the wrong matches, and use the mapping to geotag the turnstile dataset."
      ],
      "metadata": {
        "nteract": {
          "transient": {
            "deleting": false
          }
        }
      }
    },
    {
      "cell_type": "code",
      "source": [
        "# Here's a list of items that weren't a perfect match for both station names and routes. \n",
        "# We'll review these and remove the ones we cant fix, or update the mismatches\n",
        "_ = [x for x in results if x['line_fuzz_ratio'] < 100 and x[\"name_match\"][1] < 100]"
      ],
      "outputs": [],
      "execution_count": 23,
      "metadata": {
        "collapsed": true,
        "jupyter": {
          "source_hidden": false,
          "outputs_hidden": false
        },
        "nteract": {
          "transient": {
            "deleting": false
          }
        },
        "execution": {
          "iopub.status.busy": "2020-06-21T18:12:45.978Z",
          "iopub.execute_input": "2020-06-21T18:12:45.987Z",
          "iopub.status.idle": "2020-06-21T18:12:45.998Z",
          "shell.execute_reply": "2020-06-21T18:12:46.004Z"
        }
      }
    },
    {
      "cell_type": "code",
      "source": [
        "# Missed matches here:\n",
        "# the patched key is there to identify records that were manually corrected\n",
        "mismatches = {\n",
        " 'FLATBUSH AV-B.C': {'station': 'FLATBUSH AV-B.C',\n",
        "  'name_match': ('Flatbush Av - Brooklyn College', 61),\n",
        "  'line_match': '25',\n",
        "  'station_line': '25',\n",
        "  'stop_name_match': 'Flatbush Av - Brooklyn College',\n",
        "  'line_fuzz_ratio': 100,\n",
        "  'patched': True},\n",
        "  \n",
        "  'CENTRAL PK N110': {'station': 'CENTRAL PK N110', \n",
        "  'name_match': ('Central Park North (110 St)', 100),\n",
        "  'line_match': '23',\n",
        "  'station_line': '23',\n",
        "  'stop_name_match': 'Central Park North (110 St)',\n",
        "  'line_fuzz_ratio': 100,\n",
        "  'patched': True},\n",
        "    \n",
        "  'V.CORTLANDT PK': {'station': 'V.CORTLANDT PK',\n",
        "  'name_match': ('VanCortlandtPark-242St', 100),\n",
        "  'line_match': '1',\n",
        "  'station_line': '1',\n",
        "  'stop_name_match': 'Van Cortlandt Park - 242 St',\n",
        "  'line_fuzz_ratio': 100,\n",
        "  'patched': True},\n",
        "\n",
        "  \n",
        "  'HOYT-SCHER': {'station': 'HOYT-SCHER',\n",
        "  'name_match': ('HoytSchermerhornSts', 67),\n",
        "  'line_match': 'ACG',\n",
        "  'station_line': 'ACG',\n",
        "  'stop_name_match': 'Hoyt - Schermerhorn Sts',\n",
        "  'line_fuzz_ratio': 100,\n",
        "  'patched': True},\n",
        "    \n",
        "    \n",
        "  'ROCKAWAY PARK B': {'station': 'ROCKAWAY PARK B',\n",
        "  'name_match': ('RockawayParkBeach116St', 100),\n",
        "  'line_match': 'AS',\n",
        "  'station_line': 'AS',\n",
        "  'stop_name_match': 'Rockaway Park - Beach 116 St',\n",
        "  'line_fuzz_ratio': 100,\n",
        "  'patched': True},\n",
        "    \n",
        "  '4 AV-9 ST': {'station': '4 AV-9 ST',\n",
        "  'name_match': ('9St', 80),\n",
        "  'line_match': 'RFG',\n",
        "  'station_line': 'NRW',\n",
        "  'stop_name_match': '9 St',\n",
        "  'line_fuzz_ratio': 44,\n",
        "  'patched': True},\n",
        "  \n",
        "  'BEDFORD PK BLVD': {'station': 'BEDFORD PK BLVD',\n",
        "  'name_match': ('BedfordParkBlvdLehmanCollege', 100),\n",
        "  'line_match': '4',\n",
        "  'station_line': '4',\n",
        "  'stop_name_match': 'Bedford Park Blvd - Lehman College',\n",
        "  'line_fuzz_ratio': 100,\n",
        "  'patched': True},\n",
        "  \n",
        "  '33 ST-RAWSON ST': {'station': '33 ST-RAWSON ST',\n",
        "  'name_match': ('33St', 100),\n",
        "  'line_match': '7',\n",
        "  'station_line': '7',\n",
        "  'stop_name_match': '33 St',\n",
        "  'line_fuzz_ratio': 100,\n",
        "  'patched': True},\n",
        "  \n",
        "  '40 ST LOWERY ST': {'station': '40 ST LOWERY ST',\n",
        "  'name_match': ('40st', 100),\n",
        "  'line_match': '7',\n",
        "  'station_line': '7',\n",
        "  'stop_name_match': '40 St',\n",
        "  'line_fuzz_ratio': 100,\n",
        "  'patched': True},\n",
        "  \n",
        "  '46 ST BLISS ST': {'station': '46 ST BLISS ST',\n",
        "  'name_match': ('46St', 100),\n",
        "  'line_match': '7',\n",
        "  'station_line': '7',\n",
        "  'stop_name_match': '46 St',\n",
        "  'line_fuzz_ratio': 100,\n",
        "  'patched': True},\n",
        " \n",
        " '34 ST-HUDSON YD': {'station': '34 ST-HUDSON YD',\n",
        "  'name_match': ('34St11Av', 100),\n",
        "  'line_match': '7',\n",
        "  'station_line': '7',\n",
        "  'stop_name_match': '34 St - 11 Av',\n",
        "  'line_fuzz_ratio': 100,\n",
        "  'patched': True}\n",
        "}\n",
        "\n",
        "  # The location of these aren't in the dataset, so we'll ignore them. \n",
        "  # I don't know what some of the names correspond to either \n",
        "unknowns = [\n",
        "  \"RIT-ROOSEVELT\",\n",
        "  \"RIT-MANHATTAN\",\n",
        "  \"ST. GEORGE\",\n",
        "  \"ORCHARD BEACH\",\n",
        "  \"NEWARK HW BMEBE\",\n",
        "  \"HARRISON\",\n",
        "  \"JOURNAL SQUARE\",\n",
        "  'EXCHANGE PLACE',\n",
        "  'PAVONIA/NEWPORT',\n",
        "  'CITY / BUS',\n",
        "  '9TH STREET', # PATH line.  its coordinates are here: https://en.wikipedia.org/wiki/9th_Street_station_(PATH)\n",
        "  '14TH STREET', # Another path line. https://en.wikipedia.org/wiki/14th_Street_station_(PATH)\n",
        "  'TWENTY THIRD ST', # probably another path line https://en.wikipedia.org/wiki/23rd_Street_station_(PATH)\n",
        "  'THIRTY THIRD ST', # https://en.wikipedia.org/wiki/33rd_Street_station_(PATH)\n",
        "  'THIRTY ST', # DIVISION says PATH so is probably a path line. \n",
        "  'LACKAWANNA', # DIVISION says PATH so is probably a path line.\n",
        "  'NEWARK BM BW', # DIVISION says PATH so is probably a path line.\n",
        "  'NEWARK C',  # DIVISION says PATH so is probably a path line\n",
        "  'NEWARK HM HE', # DIVISION says PATH so is probably a path line\n",
        "  'PATH WTC 2', # definitely PATH line \n",
        "  'PATH NEW WTC', # PATH line\n",
        "]"
      ],
      "outputs": [],
      "execution_count": 12,
      "metadata": {
        "collapsed": true,
        "jupyter": {
          "source_hidden": false,
          "outputs_hidden": false
        },
        "nteract": {
          "transient": {
            "deleting": false
          }
        },
        "execution": {
          "iopub.status.busy": "2020-06-21T16:59:57.793Z",
          "iopub.execute_input": "2020-06-21T16:59:57.811Z",
          "iopub.status.idle": "2020-06-21T16:59:57.829Z",
          "shell.execute_reply": "2020-06-21T16:59:57.938Z"
        }
      }
    },
    {
      "cell_type": "code",
      "source": [
        "# Lets now filter the unknowns and fix the mismatches\n",
        "results_filtered = [x for x in results if x['station'] not in unknowns]\n",
        "\n",
        "# and also, fix the mismatches\n",
        "results_fixed = [mismatches[x['station']] if mismatches.get(x['station'], None) is not None else x for x in results_filtered]"
      ],
      "outputs": [],
      "execution_count": 13,
      "metadata": {
        "collapsed": true,
        "jupyter": {
          "source_hidden": false,
          "outputs_hidden": false
        },
        "nteract": {
          "transient": {
            "deleting": false
          }
        },
        "execution": {
          "iopub.status.busy": "2020-06-21T16:59:57.845Z",
          "iopub.execute_input": "2020-06-21T16:59:57.858Z",
          "iopub.status.idle": "2020-06-21T16:59:57.876Z",
          "shell.execute_reply": "2020-06-21T16:59:57.946Z"
        }
      }
    },
    {
      "cell_type": "markdown",
      "source": [
        "Alright, now its time to geotag each record. To do so, I'll map station names and routes to a particular location, then later use that to update the turnstile records"
      ],
      "metadata": {
        "nteract": {
          "transient": {
            "deleting": false
          }
        }
      }
    },
    {
      "cell_type": "code",
      "source": [
        "# maps the station and line to the geolocations\n",
        "\n",
        "_ = [\n",
        "  x.update(\n",
        "    stationsdf[\n",
        "      (stationsdf[\"Stop Name\"] == x[\"stop_name_match\"]) & \n",
        "      (stationsdf[\"Daytime Routes\"] == x[\"line_match\"])\n",
        "    ]\n",
        "    [[\"GTFS Latitude\", \"GTFS Longitude\"]].head(1).to_dict('list')\n",
        "  ) for x in results_fixed]\n",
        "\n",
        "# Some records have the lat/long values in a list (like [40.824073] for example). the lines below fixes that\n",
        "_ = [\n",
        "  x.update(\n",
        "    {'GTFS Latitude': x['GTFS Latitude'][0] if type(x['GTFS Latitude']) is list else x, \n",
        "     'GTFS Longitude': x['GTFS Longitude'][0] if type(x['GTFS Longitude']) is list else x}\n",
        "  ) for x in results_fixed]\n",
        "\n",
        "\n",
        "# I'll convert it into a df, then use 'station' and 'station_line' to join it on the turnstile dataset\n",
        "mappingdf = pandas.DataFrame(results_fixed).drop(['name_match', 'line_match', 'stop_name_match', 'line_fuzz_ratio', 'patched'], axis=1)\n",
        "pandas.merge(df, mappingdf, left_on=['STATION', 'LINENAME'], right_on=['station', 'station_line'], how='left')\n"
      ],
      "outputs": [],
      "execution_count": 14,
      "metadata": {
        "collapsed": true,
        "jupyter": {
          "source_hidden": false,
          "outputs_hidden": false
        },
        "nteract": {
          "transient": {
            "deleting": false
          }
        },
        "execution": {
          "iopub.status.busy": "2020-06-21T16:59:57.889Z",
          "iopub.execute_input": "2020-06-21T16:59:57.896Z",
          "iopub.status.idle": "2020-06-21T16:59:58.654Z",
          "shell.execute_reply": "2020-06-21T16:59:58.623Z"
        }
      }
    },
    {
      "cell_type": "code",
      "source": [
        "# Export our mapping to csv\n",
        "mappingdf.to_csv('mta_station_geo_location_mapping.csv', encoding='utf-8', index=False)"
      ],
      "outputs": [],
      "execution_count": 22,
      "metadata": {
        "collapsed": true,
        "jupyter": {
          "source_hidden": false,
          "outputs_hidden": false
        },
        "nteract": {
          "transient": {
            "deleting": false
          }
        },
        "execution": {
          "iopub.status.busy": "2020-06-21T17:37:18.298Z",
          "iopub.execute_input": "2020-06-21T17:37:18.306Z",
          "iopub.status.idle": "2020-06-21T17:37:18.318Z",
          "shell.execute_reply": "2020-06-21T17:37:18.325Z"
        }
      }
    },
    {
      "cell_type": "markdown",
      "source": [
        "Done! We're all geotagged now!  \n",
        "  \n",
        "#### Imrovements and Contributions Welcomed! \n",
        "I'll have the code and dataset available [here](https://github.com/ajpen/MTA-Station-Geo-Location-Mapping). Feel free to open issues and PRs for fixes/improvements.  \n",
        "  \n",
        "That is all."
      ],
      "metadata": {
        "nteract": {
          "transient": {
            "deleting": false
          }
        }
      }
    }
  ],
  "metadata": {
    "kernel_info": {
      "name": "python3"
    },
    "language_info": {
      "name": "python",
      "version": "3.8.2",
      "mimetype": "text/x-python",
      "codemirror_mode": {
        "name": "ipython",
        "version": 3
      },
      "pygments_lexer": "ipython3",
      "nbconvert_exporter": "python",
      "file_extension": ".py"
    },
    "kernelspec": {
      "argv": [
        "/home/anfernee/.virtualenvs/datascience/bin/python",
        "-m",
        "ipykernel_launcher",
        "-f",
        "{connection_file}"
      ],
      "display_name": "Python 3",
      "language": "python",
      "name": "python3"
    },
    "nteract": {
      "version": "0.23.3"
    }
  },
  "nbformat": 4,
  "nbformat_minor": 0
}